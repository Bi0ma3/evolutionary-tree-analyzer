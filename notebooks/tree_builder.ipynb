{
 "cells": [
  {
   "cell_type": "markdown",
   "id": "bb7fbf0a",
   "metadata": {},
   "source": [
    "# 🧬 Evolutionary Tree Analyzer\n",
    "\n",
    "A modular workflow to:\n",
    "1. Align biological sequences using MUSCLE  \n",
    "2. Build a phylogenetic tree using a parsimony-like method  \n",
    "3. Visualize and optionally export the tree\n",
    "\n",
    "---"
   ]
  },
  {
   "cell_type": "markdown",
   "id": "7e446813",
   "metadata": {},
   "source": [
    "## 1️⃣ Align Sequences\n",
    "\n",
    "This step aligns input sequences using MUSCLE and saves the result to `output/aligned_sequences.fasta`.\n",
    "\n",
    "MUSCLE citation:\n",
    "Edgar, R.C. (2004) Nucleic Acids Res 32(5):1792–1797. http://www.drive5.com/muscle"
   ]
  },
  {
   "cell_type": "code",
   "execution_count": null,
   "id": "f86c8969",
   "metadata": {},
   "outputs": [],
   "source": [
    "# Setting up the environment\n",
    "import sys\n",
    "import os\n",
    "\n",
    "# Add src directory to the path\n",
    "sys.path.append(os.path.abspath(\"../src\"))"
   ]
  },
  {
   "cell_type": "markdown",
   "id": "ac74620a",
   "metadata": {},
   "source": [
    "## ✨ This is where you need to change the file path to YOUR sequences (unless you really do want to see the example_sequences.fasta trees)"
   ]
  },
  {
   "cell_type": "code",
   "execution_count": null,
   "id": "12eef182",
   "metadata": {},
   "outputs": [],
   "source": [
    "# Use correct relative paths from the notebook's location\n",
    "input_fasta = os.path.abspath(\"../data/example_large.fa\")\n",
    "output_fasta = os.path.abspath(\"../output/aligned_sequences.fasta\")\n",
    "\n",
    "# Confirm file exists\n",
    "print(\"Input exists?\", os.path.exists(input_fasta))  # Should now be True\n",
    "\n",
    "# ✅ Now safe to import from src\n",
    "from align_sequences import align_sequences\n",
    "\n",
    "# Run the alignment\n",
    "align_sequences(input_fasta, output_fasta)"
   ]
  },
  {
   "cell_type": "markdown",
   "id": "79cdecb9",
   "metadata": {},
   "source": [
    "## 2️⃣ Build Tree (Parsimony-style)\n",
    "\n",
    "This uses Biopython to build a tree from the aligned sequences, using identity-based distances and UPGMA.\n"
   ]
  },
  {
   "cell_type": "code",
   "execution_count": null,
   "id": "95417c0f",
   "metadata": {},
   "outputs": [],
   "source": [
    "import importlib.util\n",
    "\n",
    "# Absolute path to your build_tree.py file\n",
    "build_tree_path = os.path.abspath(\"../src/build_tree.py\")\n",
    "\n",
    "# Load the module directly from the path\n",
    "spec = importlib.util.spec_from_file_location(\"build_tree\", build_tree_path)\n",
    "build_tree = importlib.util.module_from_spec(spec)\n",
    "spec.loader.exec_module(build_tree)\n",
    "\n",
    "# Use functions from the dynamically loaded module\n",
    "build_parsimony_tree = build_tree.build_parsimony_tree\n",
    "build_likelihood_tree = build_tree.build_likelihood_tree\n",
    "\n",
    "# Correct absolute paths\n",
    "aligned_fasta = os.path.abspath(\"../output/aligned_sequences.fasta\")\n",
    "tree_output = os.path.abspath(\"../output/parsimony_tree.newick\")\n",
    "\n",
    "build_parsimony_tree(aligned_fasta, tree_output)\n"
   ]
  },
  {
   "cell_type": "markdown",
   "id": "6955bf4a",
   "metadata": {},
   "source": [
    "## 🔨 Build Tree (Likelihood-style)\n",
    "This builds a tree from the aligned sequences using UPGMA  \n",
    "and identity-based distances, saved in Newick format.\n"
   ]
  },
  {
   "cell_type": "code",
   "execution_count": null,
   "id": "d366a5e4",
   "metadata": {},
   "outputs": [],
   "source": [
    "def build_likelihood_tree(aligned_fasta, output_newick=\"output/ml_tree.newick\"):\n",
    "    \"\"\"\n",
    "    Builds a simple ML-like tree (UPGMA using identity) and saves it in Newick format.\n",
    "    \"\"\"\n",
    "    alignment = AlignIO.read(aligned_fasta, \"fasta\")\n",
    "    calculator = DistanceCalculator(\"identity\")\n",
    "    distance_matrix = calculator.get_distance(alignment)\n",
    "\n",
    "    constructor = DistanceTreeConstructor()\n",
    "    tree = constructor.upgma(distance_matrix)\n",
    "\n",
    "    Phylo.write(tree, output_newick, \"newick\")\n",
    "    print(f\"Likelihood-like tree saved to: {output_newick}\")"
   ]
  },
  {
   "cell_type": "code",
   "execution_count": null,
   "id": "ef9d0102",
   "metadata": {},
   "outputs": [],
   "source": [
    "# Absolute path to your build_tree.py file\n",
    "build_tree_path = os.path.abspath(\"../src/build_tree.py\")\n",
    "\n",
    "# Load the module directly from the path\n",
    "spec = importlib.util.spec_from_file_location(\"build_tree\", build_tree_path)\n",
    "build_tree = importlib.util.module_from_spec(spec)\n",
    "spec.loader.exec_module(build_tree)\n",
    "\n",
    "# Use functions from the dynamically loaded module\n",
    "build_parsimony_tree = build_tree.build_parsimony_tree\n",
    "build_likelihood_tree = build_tree.build_likelihood_tree\n",
    "\n",
    "# Correct absolute paths\n",
    "aligned_fasta = os.path.abspath(\"../output/aligned_sequences.fasta\")\n",
    "tree_output = os.path.abspath(\"../output/ml_tree.newick\")\n",
    "\n",
    "# Build the tree\n",
    "build_likelihood_tree(aligned_fasta, tree_output)\n"
   ]
  },
  {
   "cell_type": "markdown",
   "id": "437ca1d8",
   "metadata": {},
   "source": [
    "## 3️⃣ Visualize Trees\n",
    "\n",
    "This step renders the tree inline, and saves a `.png` version in `output/tree_images/`.\n"
   ]
  },
  {
   "cell_type": "code",
   "execution_count": null,
   "id": "699bf2d4",
   "metadata": {},
   "outputs": [],
   "source": [
    "# List of tree files and output image paths\n",
    "trees_to_visualize = [\n",
    "    {\n",
    "        \"label\": \"Maximum Likelihood Tree\",\n",
    "        \"tree_path\": \"../output/ml_tree.newick\",\n",
    "        \"png_path\": \"../output/tree_images/ml_tree.png\"\n",
    "    },\n",
    "    {\n",
    "        \"label\": \"Parsimony Tree\",\n",
    "        \"tree_path\": \"../output/parsimony_tree.newick\",\n",
    "        \"png_path\": \"../output/tree_images/parsimony_tree.png\"\n",
    "    }\n",
    "]\n",
    "\n",
    "from Bio import Phylo\n",
    "import matplotlib.pyplot as plt\n",
    "\n",
    "def visualize_tree(newick_file, save_path=None):\n",
    "    tree = Phylo.read(newick_file, \"newick\")\n",
    "    plt.figure(figsize=(10, 5))\n",
    "    Phylo.draw(tree, do_show=False)\n",
    "    if save_path:\n",
    "        plt.savefig(save_path, dpi=300)\n",
    "        plt.close()\n",
    "\n",
    "# Loop through trees and plot/save\n",
    "for tree in trees_to_visualize:\n",
    "    print(f\"🧬 {tree['label']}\")\n",
    "    visualize_tree(tree[\"tree_path\"])                      # Display in notebook\n",
    "    visualize_tree(tree[\"tree_path\"], save_path=tree[\"png_path\"])  # Save PNG\n",
    "    print(f\"✅ Saved to: {tree['png_path']}\\n\")\n",
    "\n"
   ]
  },
  {
   "cell_type": "markdown",
   "id": "f33b8d07",
   "metadata": {},
   "source": [
    "## ✅ Done!\n",
    "\n",
    "- The tree was built and displayed successfully.\n",
    "- A copy was saved as `.png` in `output/tree_images/` for use in handouts, slides, or interactive activities.\n",
    "\n",
    "🌻 Created with the **Pipeline Bio** toolkit."
   ]
  }
 ],
 "metadata": {
  "kernelspec": {
   "display_name": "Python 3",
   "language": "python",
   "name": "python3"
  },
  "language_info": {
   "codemirror_mode": {
    "name": "ipython",
    "version": 3
   },
   "file_extension": ".py",
   "mimetype": "text/x-python",
   "name": "python",
   "nbconvert_exporter": "python",
   "pygments_lexer": "ipython3",
   "version": "3.11.9"
  }
 },
 "nbformat": 4,
 "nbformat_minor": 5
}
