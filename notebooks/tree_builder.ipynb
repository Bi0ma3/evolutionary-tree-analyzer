{
 "cells": [
  {
   "cell_type": "code",
   "execution_count": null,
   "id": "d665ca97-5501-49be-8444-96e8f04594dd",
   "metadata": {},
   "outputs": [],
   "source": [
    "# Evolutionary Tree Analyzer Pipeline \n",
    "\n",
    "# Imports\n",
    "from src.fasta_parser import parse_fasta\n",
    "from src.align_sequences import align_sequences\n",
    "from src.build_tree import build_parsimony_tree, build_likelihood_tree\n",
    "from src.visualize_tree import visualize_tree\n",
    "\n",
    "# Paths\n",
    "input_fasta = \"data/example_sequences.fasta\"\n",
    "aligned_fasta = \"output/aligned_sequences.fasta\"\n",
    "parsimony_tree_output = \"output/tree_images/parsimony_tree.png\"\n",
    "ml_tree_output = \"output/tree_images/ml_tree.png\"\n",
    "\n",
    "# 1. Parse input FASTA\n",
    "records = parse_fasta(input_fasta)\n",
    "print(f\"Parsed {len(records)} sequences.\")\n",
    "\n",
    "# 2. Align sequences\n",
    "align_sequences(input_fasta, aligned_fasta)\n",
    "print(\"Alignment complete.\")\n",
    "\n",
    "# 3. Build phylogenetic trees\n",
    "build_parsimony_tree(aligned_fasta)\n",
    "build_likelihood_tree(aligned_fasta)\n",
    "print(\"Tree construction complete.\")\n",
    "\n",
    "# 4. Visualize trees\n",
    "visualize_tree(\"output/parsimony_tree.newick\")  \n",
    "visualize_tree(\"output/ml_tree.newick\")\n"
   ]
  }
 ],
 "metadata": {
  "kernelspec": {
   "display_name": "Python [conda env:base] *",
   "language": "python",
   "name": "conda-base-py"
  },
  "language_info": {
   "codemirror_mode": {
    "name": "ipython",
    "version": 3
   },
   "file_extension": ".py",
   "mimetype": "text/x-python",
   "name": "python",
   "nbconvert_exporter": "python",
   "pygments_lexer": "ipython3",
   "version": "3.11.5"
  }
 },
 "nbformat": 4,
 "nbformat_minor": 5
}
